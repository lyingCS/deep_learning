{
 "cells": [
  {
   "cell_type": "code",
   "execution_count": 25,
   "metadata": {
    "ExecuteTime": {
     "end_time": "2020-08-03T11:21:26.422058Z",
     "start_time": "2020-08-03T11:21:26.376636Z"
    }
   },
   "outputs": [
    {
     "name": "stdout",
     "output_type": "stream",
     "text": [
      "tensor([[0.3379, 0.3739, 0.9709],\n",
      "        [0.6044, 0.6602, 0.6570],\n",
      "        [0.6101, 0.9028, 0.3004],\n",
      "        [0.2928, 0.7362, 0.3836],\n",
      "        [0.2294, 0.3503, 0.3473]])\n",
      "tensor([[0, 0, 0],\n",
      "        [0, 0, 0],\n",
      "        [0, 0, 0],\n",
      "        [0, 0, 0],\n",
      "        [0, 0, 0]])\n",
      "tensor([5.5000, 3.0000])\n",
      "tensor([[1., 1., 1.],\n",
      "        [1., 1., 1.],\n",
      "        [1., 1., 1.],\n",
      "        [1., 1., 1.],\n",
      "        [1., 1., 1.]], dtype=torch.float64)\n",
      "tensor([[ 0.3436,  0.7922,  1.0876],\n",
      "        [-0.4078, -0.6274, -0.0199],\n",
      "        [-0.7777,  1.9172, -0.7599],\n",
      "        [-0.7295, -0.1523,  0.8726],\n",
      "        [-0.2742, -0.5976, -0.6920]])\n",
      "torch.Size([5, 3])\n",
      "torch.Size([5, 3])\n",
      "tensor([[ 1.3377,  1.1176,  1.2527],\n",
      "        [ 0.1887, -0.1481,  0.4496],\n",
      "        [ 0.0189,  2.6188, -0.6038],\n",
      "        [-0.5860,  0.3909,  1.7516],\n",
      "        [ 0.5835,  0.0821,  0.1677]])\n",
      "tensor([[ 1.3377,  1.1176,  1.2527],\n",
      "        [ 0.1887, -0.1481,  0.4496],\n",
      "        [ 0.0189,  2.6188, -0.6038],\n",
      "        [-0.5860,  0.3909,  1.7516],\n",
      "        [ 0.5835,  0.0821,  0.1677]])\n",
      "tensor([[ 1.3377,  1.1176,  1.2527],\n",
      "        [ 0.1887, -0.1481,  0.4496],\n",
      "        [ 0.0189,  2.6188, -0.6038],\n",
      "        [-0.5860,  0.3909,  1.7516],\n",
      "        [ 0.5835,  0.0821,  0.1677]])\n",
      "tensor([[ 1.3377,  1.1176,  1.2527],\n",
      "        [ 0.1887, -0.1481,  0.4496],\n",
      "        [ 0.0189,  2.6188, -0.6038],\n",
      "        [-0.5860,  0.3909,  1.7516],\n",
      "        [ 0.5835,  0.0821,  0.1677]])\n",
      "tensor([1.3436, 1.7922, 2.0876])\n",
      "tensor([1.3436, 1.7922, 2.0876])\n",
      "tensor([[1., 1.],\n",
      "        [1., 1.]])\n",
      "tensor([1., 1.])\n",
      "tensor([2., 2.])\n",
      "tensor([[2., 2.],\n",
      "        [1., 1.]])\n",
      "tensor([[2., 2.],\n",
      "        [1., 1.]])\n",
      "tensor([2., 2., 1., 1.])\n",
      "tensor([[2.],\n",
      "        [2.],\n",
      "        [1.],\n",
      "        [1.]])\n"
     ]
    }
   ],
   "source": [
    "import torch\n",
    "x=torch.rand(5,3)\n",
    "print(x)\n",
    "\n",
    "x=torch.zeros(5,3,dtype=torch.long)\n",
    "print(x)\n",
    "\n",
    "x=torch.tensor([5.5,3])\n",
    "print(x)\n",
    "\n",
    "x=x.new_ones(5,3,dtype=torch.float64)\n",
    "print(x)\n",
    "x=torch.randn_like(x,dtype=torch.float)\n",
    "print(x)\n",
    "\n",
    "print(x.shape)\n",
    "print(x.size())\n",
    "\n",
    "\n",
    "\n",
    "y=torch.rand(5,3)\n",
    "print(x+y)\n",
    "\n",
    "print(torch.add(x,y))\n",
    "\n",
    "result=torch.empty(5,3)\n",
    "torch.add(x,y,out=result)\n",
    "print(result)\n",
    "\n",
    "y.add_(x)\n",
    "print(y)\n",
    "\n",
    "y=x[0,:]\n",
    "y+=1\n",
    "print(y)\n",
    "print(x[0,:])\n",
    "\n",
    "x=torch.ones(2,2)\n",
    "\n",
    "y=x[0,:]\n",
    "print(x)\n",
    "print(y)\n",
    "\n",
    "y+=1\n",
    "print(y)\n",
    "\n",
    "print(x)\n",
    "\n",
    "y=x.view(4)\n",
    "print(x)\n",
    "print(y)\n",
    "\n",
    "z=x.view(4,-1)\n",
    "\n",
    "print(z)"
   ]
  },
  {
   "cell_type": "code",
   "execution_count": 26,
   "metadata": {
    "ExecuteTime": {
     "end_time": "2020-08-03T11:23:16.387434Z",
     "start_time": "2020-08-03T11:23:16.377943Z"
    }
   },
   "outputs": [
    {
     "name": "stdout",
     "output_type": "stream",
     "text": [
      "tensor([[3., 3.],\n",
      "        [2., 2.]])\n",
      "tensor([3., 3., 2., 2.])\n"
     ]
    }
   ],
   "source": [
    "x+=1\n",
    "print(x)\n",
    "print(y)"
   ]
  },
  {
   "cell_type": "code",
   "execution_count": 28,
   "metadata": {
    "ExecuteTime": {
     "end_time": "2020-08-03T11:24:15.468690Z",
     "start_time": "2020-08-03T11:24:15.457061Z"
    }
   },
   "outputs": [
    {
     "name": "stdout",
     "output_type": "stream",
     "text": [
      "tensor([[2., 2.],\n",
      "        [1., 1.]])\n",
      "tensor([3., 3., 2., 2.])\n"
     ]
    }
   ],
   "source": [
    "x_cp=x.clone().view(4)\n",
    "x-=1\n",
    "print(x)\n",
    "print(x_cp)"
   ]
  },
  {
   "cell_type": "code",
   "execution_count": 29,
   "metadata": {
    "ExecuteTime": {
     "end_time": "2020-08-03T11:25:06.799051Z",
     "start_time": "2020-08-03T11:25:06.788047Z"
    }
   },
   "outputs": [
    {
     "name": "stdout",
     "output_type": "stream",
     "text": [
      "tensor([-0.8962])\n",
      "-0.896202802658081\n"
     ]
    }
   ],
   "source": [
    "x=torch.randn(1)\n",
    "print(x)\n",
    "print(x.item())"
   ]
  },
  {
   "cell_type": "code",
   "execution_count": 31,
   "metadata": {
    "ExecuteTime": {
     "end_time": "2020-08-03T11:27:36.320317Z",
     "start_time": "2020-08-03T11:27:36.301368Z"
    }
   },
   "outputs": [
    {
     "name": "stdout",
     "output_type": "stream",
     "text": [
      "tensor([[1, 2]])\n",
      "tensor([[1],\n",
      "        [2],\n",
      "        [3]])\n",
      "tensor([[2, 3],\n",
      "        [3, 4],\n",
      "        [4, 5]])\n"
     ]
    }
   ],
   "source": [
    "x=torch.arange(1,3).view(1,2)\n",
    "print(x)\n",
    "y=torch.arange(1,4).view(3,1)\n",
    "print(y)\n",
    "print(x+y)"
   ]
  },
  {
   "cell_type": "code",
   "execution_count": 35,
   "metadata": {
    "ExecuteTime": {
     "end_time": "2020-08-03T11:33:03.032995Z",
     "start_time": "2020-08-03T11:33:03.023994Z"
    }
   },
   "outputs": [
    {
     "name": "stdout",
     "output_type": "stream",
     "text": [
      "True\n"
     ]
    }
   ],
   "source": [
    "x=torch.tensor([1,2])\n",
    "y=torch.tensor([3,4])\n",
    "id_before=id(y)\n",
    "y[:]=y+x\n",
    "print(id(y)==id_before)"
   ]
  },
  {
   "cell_type": "code",
   "execution_count": 36,
   "metadata": {
    "ExecuteTime": {
     "end_time": "2020-08-03T11:40:41.599937Z",
     "start_time": "2020-08-03T11:40:41.562488Z"
    }
   },
   "outputs": [
    {
     "name": "stdout",
     "output_type": "stream",
     "text": [
      "tensor([1., 1., 1., 1., 1.]) [1. 1. 1. 1. 1.]\n",
      "tensor([2., 2., 2., 2., 2.]) [2. 2. 2. 2. 2.]\n",
      "tensor([3., 3., 3., 3., 3.]) [3. 3. 3. 3. 3.]\n"
     ]
    }
   ],
   "source": [
    "a=torch.ones(5)\n",
    "b=a.numpy()\n",
    "print(a,b)\n",
    "\n",
    "a+=1\n",
    "print(a,b)\n",
    "b+=1\n",
    "print(a,b)"
   ]
  },
  {
   "cell_type": "code",
   "execution_count": 37,
   "metadata": {
    "ExecuteTime": {
     "end_time": "2020-08-03T11:41:40.608702Z",
     "start_time": "2020-08-03T11:41:40.581047Z"
    }
   },
   "outputs": [
    {
     "name": "stdout",
     "output_type": "stream",
     "text": [
      "[1. 1. 1. 1. 1.] tensor([1., 1., 1., 1., 1.], dtype=torch.float64)\n",
      "[2. 2. 2. 2. 2.] tensor([2., 2., 2., 2., 2.], dtype=torch.float64)\n",
      "[3. 3. 3. 3. 3.] tensor([3., 3., 3., 3., 3.], dtype=torch.float64)\n"
     ]
    }
   ],
   "source": [
    "import numpy as np\n",
    "a=np.ones(5)\n",
    "b=torch.from_numpy(a)\n",
    "print(a,b)\n",
    "a+=1\n",
    "print(a,b)\n",
    "b+=1\n",
    "print(a,b)"
   ]
  },
  {
   "cell_type": "code",
   "execution_count": 38,
   "metadata": {
    "ExecuteTime": {
     "end_time": "2020-08-03T11:43:07.425009Z",
     "start_time": "2020-08-03T11:43:07.410442Z"
    }
   },
   "outputs": [
    {
     "name": "stdout",
     "output_type": "stream",
     "text": [
      "[4. 4. 4. 4. 4.] tensor([3., 3., 3., 3., 3.], dtype=torch.float64)\n"
     ]
    }
   ],
   "source": [
    "c=torch.tensor(a)\n",
    "a+=1;\n",
    "print(a,c)"
   ]
  }
 ],
 "metadata": {
  "kernelspec": {
   "display_name": "Python 3",
   "language": "python",
   "name": "python3"
  },
  "language_info": {
   "codemirror_mode": {
    "name": "ipython",
    "version": 3
   },
   "file_extension": ".py",
   "mimetype": "text/x-python",
   "name": "python",
   "nbconvert_exporter": "python",
   "pygments_lexer": "ipython3",
   "version": "3.8.5"
  },
  "latex_envs": {
   "LaTeX_envs_menu_present": true,
   "autoclose": false,
   "autocomplete": true,
   "bibliofile": "biblio.bib",
   "cite_by": "apalike",
   "current_citInitial": 1,
   "eqLabelWithNumbers": true,
   "eqNumInitial": 1,
   "hotkeys": {
    "equation": "Ctrl-E",
    "itemize": "Ctrl-I"
   },
   "labels_anchors": false,
   "latex_user_defs": false,
   "report_style_numbering": false,
   "user_envs_cfg": false
  },
  "toc": {
   "base_numbering": 1,
   "nav_menu": {},
   "number_sections": true,
   "sideBar": true,
   "skip_h1_title": false,
   "title_cell": "Table of Contents",
   "title_sidebar": "Contents",
   "toc_cell": false,
   "toc_position": {},
   "toc_section_display": true,
   "toc_window_display": false
  }
 },
 "nbformat": 4,
 "nbformat_minor": 4
}
